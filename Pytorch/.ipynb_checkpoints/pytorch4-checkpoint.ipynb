{
 "cells": [
  {
   "cell_type": "code",
   "execution_count": 26,
   "id": "9476a7d2-b165-4420-b64e-f450f899a138",
   "metadata": {},
   "outputs": [],
   "source": [
    "import torch\n",
    "import torchvision\n",
    "from torchvision import transforms, datasets"
   ]
  },
  {
   "cell_type": "code",
   "execution_count": 27,
   "id": "ecf240f4-51ac-4f8a-ae53-072fb877bba3",
   "metadata": {},
   "outputs": [],
   "source": [
    "#entrenar (se pasa a tensor la imagen)\n",
    "train= datasets.MNIST(\"\", train=True, download=True, transform=transforms.Compose([transforms.ToTensor()]))\n",
    "#evaluar\n",
    "test= datasets.MNIST(\"\", train=False, download=True, transform=transforms.Compose([transforms.ToTensor()]))\n",
    "\n",
    "#divide en batches de 10 imagenes orden aleatorio (utilizar el max posible)\n",
    "trainset= torch.utils.data.DataLoader(train, batch_size=10, shuffle=True)\n",
    "\n",
    "testset= torch.utils.data.DataLoader(test, batch_size=10, shuffle=False)"
   ]
  },
  {
   "cell_type": "code",
   "execution_count": 28,
   "id": "629defb3-d6c4-4d2e-b4dc-6c1a7b0675af",
   "metadata": {},
   "outputs": [],
   "source": [
    "import torch.nn as nn\n",
    "import torch.nn.functional as F"
   ]
  },
  {
   "cell_type": "code",
   "execution_count": 29,
   "id": "ca2a2026-ce62-4367-a286-8f096342489d",
   "metadata": {},
   "outputs": [
    {
     "name": "stdout",
     "output_type": "stream",
     "text": [
      "Net(\n",
      "  (fc1): Linear(in_features=784, out_features=64, bias=True)\n",
      "  (fc2): Linear(in_features=64, out_features=64, bias=True)\n",
      "  (fc3): Linear(in_features=64, out_features=64, bias=True)\n",
      "  (fc4): Linear(in_features=64, out_features=10, bias=True)\n",
      ")\n"
     ]
    }
   ],
   "source": [
    "class Net(nn.Module):\n",
    "    def __init__(self):\n",
    "        super().__init__()\n",
    "        #(input-imagen, output-elegimos)\n",
    "        self.fc1=nn.Linear(28*28, 64)\n",
    "        self.fc2=nn.Linear(64, 64)\n",
    "        self.fc3=nn.Linear(64, 64)\n",
    "        self.fc4=nn.Linear(64, 10)\n",
    "        \n",
    "    def forward(self, x):\n",
    "        x=F.relu(self.fc1(x))\n",
    "        x=F.relu(self.fc2(x))\n",
    "        x=F.relu(self.fc3(x))\n",
    "        x=self.fc4(x)\n",
    "\n",
    "        return F.log_softmax(x, dim=1)\n",
    "\n",
    "\n",
    "    \n",
    "net=Net()\n",
    "print(net)"
   ]
  },
  {
   "cell_type": "code",
   "execution_count": 30,
   "id": "ec86529a-5248-488c-a92d-e928199b7dc3",
   "metadata": {},
   "outputs": [
    {
     "data": {
      "text/plain": [
       "tensor([[-2.4515, -2.1538, -2.4297, -2.2547, -2.2500, -2.1801, -2.3636, -2.3461,\n",
       "         -2.2526, -2.3920]], grad_fn=<LogSoftmaxBackward0>)"
      ]
     },
     "execution_count": 30,
     "metadata": {},
     "output_type": "execute_result"
    }
   ],
   "source": [
    "X = torch.rand((28,28))\n",
    "X=X.view(-1,28*28)\n",
    "\n",
    "output=net(X)\n",
    "output"
   ]
  },
  {
   "cell_type": "code",
   "execution_count": 32,
   "id": "af99a135-3c46-4af2-91ec-9261004d31fb",
   "metadata": {},
   "outputs": [
    {
     "name": "stdout",
     "output_type": "stream",
     "text": [
      "hola\n",
      "tensor(0.0009, grad_fn=<NllLossBackward0>)\n",
      "tensor(0.0070, grad_fn=<NllLossBackward0>)\n",
      "tensor(0.0559, grad_fn=<NllLossBackward0>)\n"
     ]
    }
   ],
   "source": [
    "import torch.optim as optim\n",
    "\n",
    " #lr= \"learning rate\" tamaño de los pasos/saltos \n",
    "optimizer = optim.Adam(net.parameters(), lr=0.001)\n",
    "\n",
    "#\"epoca\"= ver todas las muestras/ hacer todas las iteraciones (iteracion=1 batch)\n",
    "EPOCHS=3\n",
    "\n",
    "for epoch in range(EPOCHS):\n",
    "    for data in trainset:\n",
    "        # data is a batch (X tensor, y sol)\n",
    "        X,y=data\n",
    "        #low spec\n",
    "        net.zero_grad()\n",
    "        output=net(X.view(-1, 28*28))\n",
    "        loss=F.nll_loss(output, y)\n",
    "        loss.backward()\n",
    "        optimizer.step()\n",
    "    print(loss)"
   ]
  },
  {
   "cell_type": "code",
   "execution_count": 34,
   "id": "6969ae77-c7a3-4cc6-a1a4-d579b2447ff5",
   "metadata": {},
   "outputs": [
    {
     "name": "stdout",
     "output_type": "stream",
     "text": [
      "Accuracy:  0.987\n"
     ]
    }
   ],
   "source": [
    "correct=0\n",
    "total=0\n",
    "with torch.no_grad():\n",
    "    for data in trainset:\n",
    "        X,y=data\n",
    "        output=net(X.view(-1, 784))\n",
    "        for idx, i in enumerate(output):\n",
    "            #argmax() maquina guess\n",
    "            #y[idx] solucion correcta\n",
    "            if torch.argmax(i)==y[idx]:\n",
    "                correct+=1\n",
    "            total+=1\n",
    "print(\"Accuracy: \", round(correct/total,3))\n",
    "    "
   ]
  },
  {
   "cell_type": "code",
   "execution_count": 47,
   "id": "dbcd67ad-034b-480c-b5ac-21f9fdc6b120",
   "metadata": {},
   "outputs": [
    {
     "data": {
      "image/png": "[encoded data removed]",
      "text/plain": [
       "<Figure size 640x480 with 1 Axes>"
      ]
     },
     "metadata": {},
     "output_type": "display_data"
    }
   ],
   "source": [
    "import matplotlib.pyplot as plt\n",
    "plt.imshow(X[7].view(28,28))\n",
    "plt.show()"
   ]
  },
  {
   "cell_type": "code",
   "execution_count": 48,
   "id": "65c663f9-d32d-4525-959d-651844a555f9",
   "metadata": {},
   "outputs": [
    {
     "name": "stdout",
     "output_type": "stream",
     "text": [
      "tensor(9)\n"
     ]
    }
   ],
   "source": [
    "print(torch.argmax(net(X[7].view(-1, 784))[0]))"
   ]
  },
  {
   "cell_type": "code",
   "execution_count": null,
   "id": "325bdf15-ac6a-4ad5-b6b5-17d7612f794a",
   "metadata": {},
   "outputs": [],
   "source": []
  }
 ],
 "metadata": {
  "kernelspec": {
   "display_name": "torch_kernel",
   "language": "python",
   "name": "torch_kernel"
  },
  "language_info": {
   "codemirror_mode": {
    "name": "ipython",
    "version": 3
   },
   "file_extension": ".py",
   "mimetype": "text/x-python",
   "name": "python",
   "nbconvert_exporter": "python",
   "pygments_lexer": "ipython3",
   "version": "3.12.0"
  }
 },
 "nbformat": 4,
 "nbformat_minor": 5
}
